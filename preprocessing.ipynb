{
 "cells": [
  {
   "cell_type": "code",
   "execution_count": 2,
   "metadata": {},
   "outputs": [],
   "source": [
    "import pandas as pd\n",
    "import numpy as np"
   ]
  },
  {
   "cell_type": "code",
   "execution_count": 13,
   "metadata": {},
   "outputs": [
    {
     "name": "stdout",
     "output_type": "stream",
     "text": [
      "id 40\n",
      "lat 513965\n",
      "long 541320\n"
     ]
    }
   ],
   "source": [
    "gps_data = pd.read_csv(\"Data/gps.csv\")\n",
    "print(\"id\", gps_data['id'].nunique())\n",
    "print(\"lat\", gps_data['lat'].nunique())\n",
    "print(\"long\", gps_data['long'].nunique())"
   ]
  },
  {
   "cell_type": "code",
   "execution_count": 19,
   "metadata": {},
   "outputs": [
    {
     "name": "stdout",
     "output_type": "stream",
     "text": [
      "location 34\n",
      "price 1342\n",
      "last4ccnum 55\n"
     ]
    }
   ],
   "source": [
    "cc_data = pd.read_csv(\"Data/new_cc_data.csv\")\n",
    "print(\"location\", cc_data['location'].nunique())\n",
    "print(\"price\", cc_data['price'].nunique())\n",
    "print(\"last4ccnum\",cc_data['last4ccnum'].nunique())"
   ]
  },
  {
   "cell_type": "code",
   "execution_count": 22,
   "metadata": {},
   "outputs": [
    {
     "name": "stdout",
     "output_type": "stream",
     "text": [
      "location 33\n",
      "price 1217\n",
      "loyaltynum 54\n"
     ]
    }
   ],
   "source": [
    "loyalty_data = pd.read_csv(\"Data/new_loyalty_data.csv\")\n",
    "print(\"location\",loyalty_data['location'].nunique())\n",
    "print(\"price\", loyalty_data ['price'].nunique())\n",
    "print(\"loyaltynum\",loyalty_data ['loyaltynum'].nunique())"
   ]
  },
  {
   "cell_type": "code",
   "execution_count": 25,
   "metadata": {},
   "outputs": [
    {
     "name": "stdout",
     "output_type": "stream",
     "text": [
      "Name 43\n",
      "car id 35\n",
      "type 5\n",
      "title 21\n"
     ]
    }
   ],
   "source": [
    "car_data = pd.read_csv(\"Data/car-assignments.csv\")\n",
    "print(\"Name\", car_data['FirstName'].nunique())\n",
    "print(\"car id\", car_data['CarID'].nunique())\n",
    "print(\"type\", car_data['CurrentEmploymentType'].nunique())\n",
    "print(\"title\", car_data['CurrentEmploymentTitle'].nunique())"
   ]
  },
  {
   "cell_type": "code",
   "execution_count": null,
   "metadata": {},
   "outputs": [],
   "source": []
  }
 ],
 "metadata": {
  "kernelspec": {
   "display_name": "base",
   "language": "python",
   "name": "python3"
  },
  "language_info": {
   "codemirror_mode": {
    "name": "ipython",
    "version": 3
   },
   "file_extension": ".py",
   "mimetype": "text/x-python",
   "name": "python",
   "nbconvert_exporter": "python",
   "pygments_lexer": "ipython3",
   "version": "3.11.8"
  }
 },
 "nbformat": 4,
 "nbformat_minor": 2
}
